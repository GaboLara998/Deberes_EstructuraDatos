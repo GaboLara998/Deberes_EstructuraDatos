{
 "cells": [
  {
   "cell_type": "markdown",
   "id": "cae87a99",
   "metadata": {},
   "source": [
    "## Verdadero o falso con argumentos"
   ]
  },
  {
   "cell_type": "markdown",
   "id": "dd24dc62",
   "metadata": {},
   "source": [
    "### 1.  Una función recursiva resuelve un problema resolviendo una parte mas pequeña del mismo problema "
   ]
  },
  {
   "cell_type": "markdown",
   "id": "132cbe7e",
   "metadata": {},
   "source": [
    "Verdadero, cuando hablamos de recursividad, buscamos dividir el problema general en sub problemas que sea más fáciles de resolver, para que de esta manera resolver estos sub problemas mediante recursión hasta llegar a un problema cuya solución sea algo trivial."
   ]
  },
  {
   "cell_type": "markdown",
   "id": "691524e4",
   "metadata": {},
   "source": [
    "### 2.  Los modelos computacionales nos ayudan a analizar la complejidad de los algoritmos, ya que nos proveen de las especificaciones de la computadora en la cual estos se ejecutarían idealmente"
   ]
  },
  {
   "cell_type": "markdown",
   "id": "bebb2852",
   "metadata": {},
   "source": [
    "Verdadero, los modelos computacionales permiten conocer las operaciones que se pueden realizar en un algoritmo, como el uso de tiempo, memoria entre otras."
   ]
  },
  {
   "cell_type": "markdown",
   "id": "e5f602d1",
   "metadata": {},
   "source": [
    "### 3.  La búsqueda en un árbol binario de búsqueda es siempre mas rápida que la búsqueda lineal en un arreglo"
   ]
  },
  {
   "cell_type": "markdown",
   "id": "e29284c8",
   "metadata": {},
   "source": [
    "Verdadero, un árbol binario de búsqueda establece una jerarquía de elementos, al tener una raiz, todos los elementos de la izquierda van a ser menores que el valor de la raiz, mientras que los elementos que se encuentren a la derecha, son valores mayores que el de la raiz. Por lo que, al momento de realizar alguna busqueda simplifica saber en que lado estara el número a buscar. Por otro lado, en un arreglo es más sera complicado buscar algun elemento, ya que, se debe recorrer todos los elementos para buscar el valor deseado. "
   ]
  },
  {
   "cell_type": "markdown",
   "id": "a1fdae73",
   "metadata": {},
   "source": [
    "### 4. Un algoritmo de complejidad O(nlog(n)) es mas rápido que un algoritmo de complejidad O(n) "
   ]
  },
  {
   "cell_type": "markdown",
   "id": "3e49f3f1",
   "metadata": {},
   "source": [
    "Falso, en nivel de complejidad O(n) es un algoritmo mas rapido que un algoritmo O(nlog(n)) "
   ]
  },
  {
   "cell_type": "markdown",
   "id": "e296f8f9",
   "metadata": {},
   "source": [
    "### 5.  Un algoritmo de complejidad Ω(nlog(n)) es mas rápido que un algoritmo de complejidad Ω(n)"
   ]
  },
  {
   "cell_type": "markdown",
   "id": "cc346358",
   "metadata": {},
   "source": [
    "Falso, en Omega del mejor caso en un algoritmo, la complejidad Ω(n) es mas rapido que complejidad de Ω(nlog(n))"
   ]
  },
  {
   "cell_type": "markdown",
   "id": "d1446925",
   "metadata": {},
   "source": [
    "## Problemas de programación\n",
    "#### Todo el código debe ser en Python. Si se requiere escribir funciones que hagan búsqueda o ordenamiento (search, sort), programe las funciones usando los conceptos aprendidos en clase. No use las funciones que Python provee para hacer esto. "
   ]
  },
  {
   "cell_type": "markdown",
   "id": "4fb17ce9",
   "metadata": {},
   "source": [
    "### 6. Dada una lista enlazada que represente un número. Por ejemplo, 123 es representado por la lista 1->2->3 si la lista es simple o con doble enlace si es doble. Escriba un programa que haga lo siguiente:\n",
    "\n",
    "1. Reciba dos números A y B como input\n",
    "\n",
    "2. Transforme estos números a listas enlazadas como la definida arriba\n",
    "\n",
    "3. Implemente la resta de los números descritos por esas listas enlazadas. El resultado (A-B) debe ser almacenado en una lista enlazada.\n",
    "\n",
    "4. Imprima el resultado concatenando el valor de los nodos de la lista enlazada resultante\n",
    "\n",
    "Nota: asuma que el número A es mayor que B"
   ]
  },
  {
   "cell_type": "code",
   "execution_count": 106,
   "id": "9bc5dc62",
   "metadata": {},
   "outputs": [
    {
     "name": "stdout",
     "output_type": "stream",
     "text": [
      "[4, 8, 9]\n",
      "0\n"
     ]
    },
    {
     "data": {
      "text/plain": [
       "'\\nlista=singlyList()\\nlista2=singlyList()\\nlista.insert(x)\\nlista2.insert(y)\\nprint(lista)\\nprint(lista2)\\nvar=singlyList.restar_valores(lista,lista2)\\nprint(var)\\n'"
      ]
     },
     "execution_count": 106,
     "metadata": {},
     "output_type": "execute_result"
    }
   ],
   "source": [
    "#A=(int(input(\"Ingrese un numero A: \")))\n",
    "#B=(int(input(\"Ingrese un segundo numero B: \")))\n",
    "\n",
    "\n",
    "##Clase Nodo\n",
    "class Node:\n",
    "    def __init__(self, dato=None):\n",
    "        self.dato=dato\n",
    "        self.siguiente=None\n",
    "\n",
    "    def set_next(self,siguiente):\n",
    "        self.siguiente=siguiente\n",
    "\n",
    "##Clase singlyList\n",
    "\n",
    "class singlyList:\n",
    "\n",
    "    def __init__(self, head_node=None):\n",
    "        self.head_node=head_node\n",
    "\n",
    "    def insert(self,data):\n",
    "        siguiente=Node(data)\n",
    "        siguiente.set_next(self.head_node)\n",
    "        self.head_node=siguiente\n",
    "\n",
    "\n",
    "\n",
    "    def restar_valores(lista,lista2):\n",
    "        valor=0\n",
    "        total=0\n",
    "        pos=None\n",
    "        head_node=0\n",
    "\n",
    "        while(lista is None) and (lista2 is None):\n",
    "            print(\"valoro de la lista 1\",lista)\n",
    "            print(\"valor de la lista2\",lista2)\n",
    "\n",
    "            if not lista:\n",
    "                 total=lista2.dato\n",
    "                 lista2=lista2.siguiente\n",
    "            elif not lista2:\n",
    "                  total=lista.val\n",
    "                  lista=lista.siguiente\n",
    "            else:\n",
    "                total=lista.val - lista2.val\n",
    "                lista,lista2=lista.siguiente, lista2.siguiente\n",
    "            total+=valor\n",
    "\n",
    "            if total >=10:\n",
    "                valor=1\n",
    "                total-=10\n",
    "            else:\n",
    "                valor=0\n",
    "            temp=singlyList(total)\n",
    "\n",
    "            if pos:\n",
    "                pos.siguiente=temp\n",
    "            else:\n",
    "                head_node=temp\n",
    "            pos=temp\n",
    "\n",
    "            if valor >0:\n",
    "                temp=singlyList(valor)\n",
    "                pos.siguiente=temp    \n",
    "        return head_node \n",
    "\n",
    "    def __str__(self):\n",
    "        res=\"\"\n",
    "        ptr=self.head_node\n",
    "\n",
    "        while ptr:\n",
    "            res +=str(ptr.dato)+\", \"\n",
    "            ptr=ptr.siguiente    \n",
    "        res=res.strip(\", \")\n",
    "\n",
    "        if len(res):\n",
    "            return\"[\" + res + \"]\"\n",
    "        else:\n",
    "            return \"[]\"  \n",
    "\n",
    "x=Node(4)\n",
    "z=Node(8)\n",
    "y=Node(9)\n",
    "x.set_next(z)\n",
    "z.set_next(y)\n",
    "g=singlyList(x)\n",
    "\n",
    "a=Node(4)\n",
    "b=Node(8)\n",
    "c=Node(9)\n",
    "a.set_next(b)\n",
    "b.set_next(c)\n",
    "j=singlyList(a)\n",
    "print(j)\n",
    "\n",
    "k=singlyList.restar_valores(g,j)\n",
    "print(k)\n",
    "\n",
    "'''\n",
    "lista=singlyList()\n",
    "lista2=singlyList()\n",
    "lista.insert(x)\n",
    "lista2.insert(y)\n",
    "print(lista)\n",
    "print(lista2)\n",
    "var=singlyList.restar_valores(lista,lista2)\n",
    "print(var)\n",
    "'''"
   ]
  },
  {
   "cell_type": "markdown",
   "id": "ad6c65a4",
   "metadata": {},
   "source": [
    "### 7.  Cuando introducimos el concepto de pilas (stacks), usamos como ejemplos una pila de platos. Siguiendo con el ejemplo, una pila de platos con muchos platos se puede caer. Para evitar esto, se puede empezar una nueva pila.\n",
    "\n",
    "Implemente una clase de Python que defina un arreglo de stacks. La idea de tener este arreglo es que cuando un stack alcance su capacidad máxima, un nuevo stack empieza en el mismo arreglo. Las operación pop() debe retornar el mismo valor que lo haría si estuviéramos usando un stack simple. \n",
    "\n",
    "Nota: Debe definir los elementos de la clase: el arreglo de stacks, la capacidad del arreglo (# de stacks en el arreglo), la capacidad de cada stack (# de elementos que puede tener el stack). \n",
    "\n",
    "Hint: Cuando ingrese elementos (push), los elementos van al stack que este activo (el stack que recibe y retira elementos). Debe manejar las condiciones para cambiar el stack activo (cuando un push() deja al stack sin elementos, o cuando un pop() llena el stack)."
   ]
  },
  {
   "cell_type": "code",
   "execution_count": 107,
   "id": "b357ff4f",
   "metadata": {},
   "outputs": [],
   "source": [
    "import ctypes\n",
    "##Clase nodo\n",
    "\n",
    "class Node:\n",
    "    def __init__(self):\n",
    "        self.data\n",
    "        self.next=None\n",
    "class Pila:\n",
    "    def __init__(self):\n",
    "        self.capacidad_maxima=10\n",
    "        self.stack=[None]*self.capacidad_maxima\n",
    "        self.top=-1\n",
    "        self.stack = self._create_stack(self.n)            \n",
    "\n",
    "    def _create_stack(self, n):\n",
    "        return (n * ctypes.py_object)()   \n",
    "\n",
    "    def comprobar_vacio(self):\n",
    "        if self.top== -1:\n",
    "            return True\n",
    "        else:\n",
    "            return False\n",
    "\n",
    "\n",
    "\n"
   ]
  },
  {
   "cell_type": "markdown",
   "id": "b3d44802",
   "metadata": {},
   "source": [
    "### 8. Dada una cola con prioridad (PriorityQueue) que contiene elementos (k,v) donde k define la prioridad y v define el valor. Recuerde que los valores con menor k tienen mayor prioridad, es decir si tenemos dos elementos (k1, v1) y (k2, v2), v2 tiene preferencia para salir de la cola antes que v1 si k2< k1. Definimos algunas de las operaciones como siguen:\n",
    "\n",
    "```\n",
    "import ctypes\n",
    "\n",
    "class PriorityQueue(object):\n",
    "\n",
    "\"\"\"\n",
    "\n",
    "Implementation of the queue data structure\n",
    "\n",
    "\"\"\"\n",
    "\n",
    "def __init__(self, n):\n",
    "\n",
    "self.item_count = 0\n",
    "\n",
    "self.n = n\n",
    "\n",
    "self.queue = self._create_queue(self.n)\n",
    "\n",
    "def _create_queue(self, n):\n",
    "\n",
    "\"\"\"\n",
    "\n",
    "Creates a new stack of capacity n\n",
    "\n",
    "\"\"\"\n",
    "\n",
    "return (n * ctypes.py_object)()\n",
    "\n",
    "def dequeue(self):\n",
    "\n",
    "\"\"\"\n",
    "\n",
    "Remove an element from the queue\n",
    "\n",
    "\"\"\"\n",
    "\n",
    "c = self.queue[0]\n",
    "\n",
    "for i in range(1,self.item_count):\n",
    "\n",
    "self.queue[i-1] = self.queue[i]\n",
    "\n",
    "self.queue[self.item_count - 1] = ctypes.py_object\n",
    "\n",
    "self.item_count -= 1\n",
    "\n",
    "return c\n",
    "```\n",
    "\n",
    "### Implemente los métodos enqueue y decreaseKey, tal que ambos métodos tengan complejidad O(log(n)), sin utilizar funciones nativas de Python. Por ejemplo, si necesita hacer una búsqueda, no use la función de Python que implementa esto, programe la función usando for o while loops."
   ]
  },
  {
   "cell_type": "code",
   "execution_count": null,
   "id": "3d659ac3",
   "metadata": {},
   "outputs": [],
   "source": []
  },
  {
   "cell_type": "markdown",
   "id": "3591936d",
   "metadata": {},
   "source": [
    "### 9. Tenemos un árbol binario (binary tree), definimos a un nodo X como rojo, si todos los nodos en el recorrido de la raiz al nodo X tienen un valor que es menor o igual a X. Por ejemplo, en el ejemplo de abajo:\n",
    "\n",
    "![](./binary_tree.png)\n",
    "\n",
    "El recorrido hacia el nodo 3 de la izquierda es 3 → 1 → 3, como todos los valores en este recorrido son menores o iguales a 3 (3=3 y 1<3), el nodo es rojo. Similarmente, en el sub-árbol de la derecha, los nodos 4 y 5 también son rojos. Escriba una función en Python que cuente el numero total de nodos rojos. El input de esta función es la raíz del árbol binario.\n",
    "\n",
    " "
   ]
  },
  {
   "cell_type": "code",
   "execution_count": null,
   "id": "7683148e",
   "metadata": {},
   "outputs": [],
   "source": []
  }
 ],
 "metadata": {
  "interpreter": {
   "hash": "250b308242d36e83629721c7244075b381b1b678cf3b391cdc434a91845cedac"
  },
  "kernelspec": {
   "display_name": "Python 3.9.7 64-bit",
   "name": "python3"
  },
  "language_info": {
   "codemirror_mode": {
    "name": "ipython",
    "version": 3
   },
   "file_extension": ".py",
   "mimetype": "text/x-python",
   "name": "python",
   "nbconvert_exporter": "python",
   "pygments_lexer": "ipython3",
   "version": "3.9.7"
  }
 },
 "nbformat": 4,
 "nbformat_minor": 5
}
