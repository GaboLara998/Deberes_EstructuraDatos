{
 "cells": [
  {
   "cell_type": "markdown",
   "id": "cae87a99",
   "metadata": {},
   "source": [
    "## Verdadero o falso con argumentos"
   ]
  },
  {
   "cell_type": "markdown",
   "id": "dd24dc62",
   "metadata": {},
   "source": [
    "### 1.  Una función recursiva resuelve un problema resolviendo una parte mas pequeña del mismo problema "
   ]
  },
  {
   "cell_type": "markdown",
   "id": "132cbe7e",
   "metadata": {},
   "source": [
    "Verdadero, cuando hablamos de recursividad, buscamos dividir el problema general en sub problemas que sea más fáciles de resolver, para que de esta manera resolver estos sub problemas mediante recursión hasta llegar a un problema cuya solución sea algo trivial."
   ]
  },
  {
   "cell_type": "markdown",
   "id": "691524e4",
   "metadata": {},
   "source": [
    "### 2.  Los modelos computacionales nos ayudan a analizar la complejidad de los algoritmos, ya que nos proveen de las especificaciones de la computadora en la cual estos se ejecutarían idealmente"
   ]
  },
  {
   "cell_type": "markdown",
   "id": "bebb2852",
   "metadata": {},
   "source": [
    "Verdadero, los modelos computacionales permiten conocer las operaciones que se pueden realizar en un algoritmo, como el uso de tiempo, memoria entre otras."
   ]
  },
  {
   "cell_type": "markdown",
   "id": "e5f602d1",
   "metadata": {},
   "source": [
    "### 3.  La búsqueda en un árbol binario de búsqueda es siempre mas rápida que la búsqueda lineal en un arreglo"
   ]
  },
  {
   "cell_type": "markdown",
   "id": "e29284c8",
   "metadata": {},
   "source": [
    "Verdadero, un árbol binario de búsqueda establece una jerarquía de elementos, al tener una raiz, todos los elementos de la izquierda van a ser menores que el valor de la raiz, mientras que los elementos que se encuentren a la derecha, son valores mayores que el de la raiz. Por lo que, al momento de realizar alguna busqueda simplifica saber en que lado estara el número a buscar. Por otro lado, en un arreglo es más sera complicado buscar algun elemento, ya que, se debe recorrer todos los elementos para buscar el valor deseado. "
   ]
  },
  {
   "cell_type": "markdown",
   "id": "a1fdae73",
   "metadata": {},
   "source": [
    "### 4. Un algoritmo de complejidad O(nlog(n)) es mas rápido que un algoritmo de complejidad O(n) "
   ]
  },
  {
   "cell_type": "markdown",
   "id": "3e49f3f1",
   "metadata": {},
   "source": [
    "Falso, en nivel de complejidad O(n) es un algoritmo mas rapido que un algoritmo O(nlog(n)) "
   ]
  },
  {
   "cell_type": "markdown",
   "id": "e296f8f9",
   "metadata": {},
   "source": [
    "### 5.  Un algoritmo de complejidad Ω(nlog(n)) es mas rápido que un algoritmo de complejidad Ω(n)"
   ]
  },
  {
   "cell_type": "markdown",
   "id": "cc346358",
   "metadata": {},
   "source": [
    "Falso, en Omega del mejor caso en un algoritmo, la complejidad Ω(n) es mas rapido que complejidad de Ω(nlog(n))"
   ]
  },
  {
   "cell_type": "markdown",
   "id": "d1446925",
   "metadata": {},
   "source": [
    "## Problemas de programación\n",
    "#### Todo el código debe ser en Python. Si se requiere escribir funciones que hagan búsqueda o ordenamiento (search, sort), programe las funciones usando los conceptos aprendidos en clase. No use las funciones que Python provee para hacer esto. "
   ]
  },
  {
   "cell_type": "markdown",
   "id": "4fb17ce9",
   "metadata": {},
   "source": [
    "### 6. Dada una lista enlazada que represente un número. Por ejemplo, 123 es representado por la lista 1->2->3 si la lista es simple o con doble enlace si es doble. Escriba un programa que haga lo siguiente:\n",
    "\n",
    "1. Reciba dos números A y B como input\n",
    "\n",
    "2. Transforme estos números a listas enlazadas como la definida arriba\n",
    "\n",
    "3. Implemente la resta de los números descritos por esas listas enlazadas. El resultado (A-B) debe ser almacenado en una lista enlazada.\n",
    "\n",
    "4. Imprima el resultado concatenando el valor de los nodos de la lista enlazada resultante\n",
    "\n",
    "Nota: asuma que el número A es mayor que B"
   ]
  },
  {
   "cell_type": "code",
   "execution_count": 15,
   "id": "9bc5dc62",
   "metadata": {},
   "outputs": [
    {
     "name": "stdout",
     "output_type": "stream",
     "text": [
      "[9, 8, 7]\n",
      "[6, 5, 4]\n"
     ]
    }
   ],
   "source": [
    "##Clase Nodo\n",
    "class Node:\n",
    "    \n",
    "    def __init__(self, data=None, siguiente=None):\n",
    "        self.data=data\n",
    "        self.siguiente=siguiente\n",
    "\n",
    "    def set_next(self,siguiente):\n",
    "        self.siguiente=siguiente\n",
    "\n",
    "##Clase singlyList\n",
    "\n",
    "class singlyList:\n",
    "    \n",
    "    def __init__(self,head=None,next=()):\n",
    "        self.head=None\n",
    "        self.next=next        \n",
    "\n",
    "    def insert(self,data):\n",
    "        siguiente=Node(data)\n",
    "        siguiente.set_next=self.head\n",
    "        self.head=data\n",
    "\n",
    "    def restar_valores(lista,lista2):\n",
    "        valor=0\n",
    "        total=0\n",
    "        pos=None\n",
    "        \n",
    "        while(lista is None)and(lista2 is None):\n",
    "            print(\"valoro de la lista 1\",lista)\n",
    "            print(\"valor de la lista2\",lista2)\n",
    "\n",
    "            if not lista:\n",
    "                 total=lista2.data\n",
    "                 lista2=lista2.siguiente\n",
    "            elif not lista2:\n",
    "                  total=lista.data\n",
    "                  lista=lista.siguiente\n",
    "            else:\n",
    "                total=lista.data - lista2.data\n",
    "                lista,lista2=lista.siguiente, lista2.siguiente\n",
    "            total+=valor\n",
    "\n",
    "            if total >=10:\n",
    "                valor=1\n",
    "                total-=10\n",
    "            else:\n",
    "                valor=0\n",
    "            temp=singlyList(total)\n",
    "\n",
    "            if pos:\n",
    "                pos.siguiente=temp\n",
    "            else:\n",
    "                val_1=temp\n",
    "            pos=temp\n",
    "\n",
    "            if valor >0:\n",
    "                temp=singlyList(valor)\n",
    "                pos.siguiente=temp\n",
    "                    \n",
    "        return val_1 \n",
    "\n",
    "    def __str__(self):\n",
    "        libre=\"\"\n",
    "        val=self.head\n",
    "        while val:\n",
    "            libre+=str(val.data)+ \" > \"\n",
    "            val=val.next\n",
    "        libre=libre.strip(\"> \")\n",
    "        if len(libre):\n",
    "            return \"[\"+ libre +\"]\"\n",
    "        else:\n",
    "            return \"[]\"    \n",
    "        \n",
    "        \n",
    "    def transformar_Lista(_Lista):\n",
    "        assert len(_Lista)>0\n",
    "        if len(_Lista)==1:\n",
    "            return singlyList(_Lista[0])\n",
    "        else:\n",
    "            return singlyList(_Lista[0], singlyList.transformar_Lista(_Lista[1:]))\n",
    "        \n",
    "        \n",
    "A=(int(input(\"Ingrese un numero A: \")))\n",
    "B=(int(input(\"Ingrese un segundo numero B: \")))\n",
    "\n",
    "x = [int(a) for a in str(A)]\n",
    "print(x)\n",
    "y= [int(a) for a in str(B)]\n",
    "print(y)\n",
    "\n",
    "primero=singlyList.transformar_Lista(x)\n",
    "segundo=singlyList.transformar_Lista(y)\n",
    "\n",
    "\n",
    "\n",
    "\n"
   ]
  },
  {
   "cell_type": "markdown",
   "id": "ad6c65a4",
   "metadata": {},
   "source": [
    "### 7.  Cuando introducimos el concepto de pilas (stacks), usamos como ejemplos una pila de platos. Siguiendo con el ejemplo, una pila de platos con muchos platos se puede caer. Para evitar esto, se puede empezar una nueva pila.\n",
    "\n",
    "Implemente una clase de Python que defina un arreglo de stacks. La idea de tener este arreglo es que cuando un stack alcance su capacidad máxima, un nuevo stack empieza en el mismo arreglo. Las operación pop() debe retornar el mismo valor que lo haría si estuviéramos usando un stack simple. \n",
    "\n",
    "Nota: Debe definir los elementos de la clase: el arreglo de stacks, la capacidad del arreglo (# de stacks en el arreglo), la capacidad de cada stack (# de elementos que puede tener el stack). \n",
    "\n",
    "Hint: Cuando ingrese elementos (push), los elementos van al stack que este activo (el stack que recibe y retira elementos). Debe manejar las condiciones para cambiar el stack activo (cuando un push() deja al stack sin elementos, o cuando un pop() llena el stack)."
   ]
  },
  {
   "cell_type": "code",
   "execution_count": 12,
   "id": "b357ff4f",
   "metadata": {},
   "outputs": [],
   "source": [
    "##Clase nodo\n",
    "class Node:\n",
    "    def __init__(self,data):\n",
    "        self.data=data\n",
    "        self.next=None\n",
    "##Clase stack\n",
    "class Stack:\n",
    "    def __init__(self,capacidad_maxima):\n",
    "        self.capacidad_maxima=capacidad_maxima\n",
    "        self.size=0\n",
    "        self.top=None\n",
    "        self.siguiente_nodo=None            \n",
    "\n",
    "    def push(self,data):\n",
    "        if not self.top:\n",
    "            self.top=Node(data)\n",
    "            self.size=1\n",
    "        \n",
    "        assert self.size <= capacidad_maxima\n",
    "        nuevo_nodo=Node(data)\n",
    "        nuevo_nodo.next=self.top\n",
    "        self.top=nuevo_nodo\n",
    "        self.size +=1    \n",
    "\n",
    "    def pop(self):\n",
    "        if not self.top:\n",
    "            raise Exception(\"El stack ya esta vacio\")\n",
    "        nodo_eliminar=self.top\n",
    "        self.top=self.top.next\n",
    "        self.size-=1\n",
    "        return nodo_eliminar\n",
    "\n",
    "    def full(self):\n",
    "        return self.size==self.capacidad_maxima\n",
    "\n",
    "    def emply(self):\n",
    "        return self.size==0\n",
    "\n",
    "#Clase para generar Stacks cuando alcance la capacidad              \n",
    "class arreglodeStacks:\n",
    "    def __init__(self,capacidad_maxima):\n",
    "        assert capacidad_maxima>0\n",
    "        self.capacidad_maxima=capacidad_maxima\n",
    "        self.item=None\n",
    "        \n",
    "    def push(self,data):\n",
    "        if not self.item:\n",
    "            nuevo_stack=Stack(self.capacidad_maxima)\n",
    "            nuevo_stack.push(data)\n",
    "            self.item=nuevo_stack\n",
    "\n",
    "        if self.item.full():\n",
    "            nuevo_stack=Stack(self.capacidad_maxima)\n",
    "            nuevo_stack.push(data)\n",
    "            nuevo_stack.siguiente_nodo=self.item\n",
    "\n",
    "        if self.item.size<=self.item.capacidad_maxima:\n",
    "            self.item.push(data)\n",
    "    def pop(self):\n",
    "        assert self.item !=None\n",
    "        elimiar_nodo=self.item.pop()\n",
    "        if self.item.emply():\n",
    "            self.item=self.item.siguiente_nodo\n",
    "        return elimiar_nodo\n",
    "\n",
    "\n",
    "capacidad_maxima=2\n",
    "_Stacks=arreglodeStacks(capacidad_maxima)\n",
    "_Stacks.push(5)\n",
    "_Stacks.push(3)\n",
    "_Stacks.push(11)\n",
    "\n"
   ]
  },
  {
   "cell_type": "markdown",
   "id": "b3d44802",
   "metadata": {},
   "source": [
    "### 8. Dada una cola con prioridad (PriorityQueue) que contiene elementos (k,v) donde k define la prioridad y v define el valor. Recuerde que los valores con menor k tienen mayor prioridad, es decir si tenemos dos elementos (k1, v1) y (k2, v2), v2 tiene preferencia para salir de la cola antes que v1 si k2< k1. Definimos algunas de las operaciones como siguen:\n",
    "\n",
    "```\n",
    "import ctypes\n",
    "\n",
    "class PriorityQueue(object):\n",
    "\n",
    "\"\"\"\n",
    "\n",
    "Implementation of the queue data structure\n",
    "\n",
    "\"\"\"\n",
    "\n",
    "def __init__(self, n):\n",
    "\n",
    "self.item_count = 0\n",
    "\n",
    "self.n = n\n",
    "\n",
    "self.queue = self._create_queue(self.n)\n",
    "\n",
    "def _create_queue(self, n):\n",
    "\n",
    "\"\"\"\n",
    "\n",
    "Creates a new stack of capacity n\n",
    "\n",
    "\"\"\"\n",
    "\n",
    "return (n * ctypes.py_object)()\n",
    "\n",
    "def dequeue(self):\n",
    "\n",
    "\"\"\"\n",
    "\n",
    "Remove an element from the queue\n",
    "\n",
    "\"\"\"\n",
    "\n",
    "c = self.queue[0]\n",
    "\n",
    "for i in range(1,self.item_count):\n",
    "\n",
    "self.queue[i-1] = self.queue[i]\n",
    "\n",
    "self.queue[self.item_count - 1] = ctypes.py_object\n",
    "\n",
    "self.item_count -= 1\n",
    "\n",
    "return c\n",
    "```\n",
    "\n",
    "### Implemente los métodos enqueue y decreaseKey, tal que ambos métodos tengan complejidad O(log(n)), sin utilizar funciones nativas de Python. Por ejemplo, si necesita hacer una búsqueda, no use la función de Python que implementa esto, programe la función usando for o while loops."
   ]
  },
  {
   "cell_type": "code",
   "execution_count": 13,
   "id": "3d659ac3",
   "metadata": {},
   "outputs": [
    {
     "data": {
      "text/plain": [
       "'\\n##Metodo de enqueue\\ndef enqueue(self,data):\\n    node=self.Node\\n\\ndef decreaseKey(self,v,k):\\n\\n\\n'"
      ]
     },
     "execution_count": 13,
     "metadata": {},
     "output_type": "execute_result"
    }
   ],
   "source": [
    "#Para PriorityQueue y sus metodos en complejidad O(log(n)) se usa Binary tree\n",
    "\n",
    "\"\"\"\n",
    "##Metodo de enqueue\n",
    "def enqueue(self,data):\n",
    "    node=self.Node\n",
    "\n",
    "def decreaseKey(self,v,k):\n",
    "\n",
    "\n",
    "\"\"\"    "
   ]
  },
  {
   "cell_type": "markdown",
   "id": "3591936d",
   "metadata": {},
   "source": [
    "### 9. Tenemos un árbol binario (binary tree), definimos a un nodo X como rojo, si todos los nodos en el recorrido de la raiz al nodo X tienen un valor que es menor o igual a X. Por ejemplo, en el ejemplo de abajo:\n",
    "\n",
    "![](./binary_tree.png)\n",
    "\n",
    "El recorrido hacia el nodo 3 de la izquierda es 3 → 1 → 3, como todos los valores en este recorrido son menores o iguales a 3 (3=3 y 1<3), el nodo es rojo. Similarmente, en el sub-árbol de la derecha, los nodos 4 y 5 también son rojos. Escriba una función en Python que cuente el numero total de nodos rojos. El input de esta función es la raíz del árbol binario.\n",
    "\n",
    " "
   ]
  },
  {
   "cell_type": "code",
   "execution_count": null,
   "id": "7683148e",
   "metadata": {},
   "outputs": [],
   "source": []
  }
 ],
 "metadata": {
  "interpreter": {
   "hash": "250b308242d36e83629721c7244075b381b1b678cf3b391cdc434a91845cedac"
  },
  "kernelspec": {
   "display_name": "Python 3.9.7 64-bit",
   "name": "python3"
  },
  "language_info": {
   "codemirror_mode": {
    "name": "ipython",
    "version": 3
   },
   "file_extension": ".py",
   "mimetype": "text/x-python",
   "name": "python",
   "nbconvert_exporter": "python",
   "pygments_lexer": "ipython3",
   "version": "3.9.7"
  }
 },
 "nbformat": 4,
 "nbformat_minor": 5
}
