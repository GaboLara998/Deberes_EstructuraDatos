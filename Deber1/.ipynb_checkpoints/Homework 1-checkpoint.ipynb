{
 "cells": [
  {
   "cell_type": "code",
   "execution_count": 36,
   "id": "369e6bbf",
   "metadata": {},
   "outputs": [],
   "source": [
    "import time\n",
    "import pandas as pd\n",
    "import numpy as np\n",
    "import matplotlib.pyplot as plt\n",
    "import sys\n",
    "import random\n",
    "import statistics as stats"
   ]
  },
  {
   "cell_type": "markdown",
   "id": "7e0d7d0e",
   "metadata": {},
   "source": [
    "# Homework 1"
   ]
  },
  {
   "cell_type": "markdown",
   "id": "35509289",
   "metadata": {},
   "source": [
    "##  1. Sort the following functions in decreasing order of asymptotic complexity ($O(f(n))$):\n",
    "\n",
    "- $f_1(n) = n^\\sqrt{n}$\n",
    "- $f_2(n) = 2^n$\n",
    "- $f_3(n) = {n\\choose 2}$\n",
    "- $f_4(n) = \\sum_{i=2}^n (i-1)$"
   ]
  },
  {
   "cell_type": "markdown",
   "id": "9bf74151",
   "metadata": {},
   "source": [
    "\n",
    "\"\"\"\"\n",
    "Resolucion de cada funcion:\n",
    "   - $f1=(O(n\\sqrt{x}^n))$\n",
    "    \n",
    "   - $f2=(O(2^n))$\n",
    "    \n",
    "   - $f3=(O(n^4))$\n",
    "    \n",
    "   - $f4=(O(n^2))$\n",
    "    \n",
    " Ordenamiento decreciente\n",
    "   - $1.f4(O(n^2))$\n",
    "   - $2.f2(O(2^n)))$\n",
    "   - $3.f1(O(n\\sqrt{x}^n)$\n",
    "   - $4.f3(O(n^4))$\n",
    "'''\n",
    " "
   ]
  },
  {
   "cell_type": "markdown",
   "id": "6079fb21",
   "metadata": {},
   "source": [
    "## 2. Implement in Python the insertion sort procedure to sort into non-increasing instead of non-decreasing order \n",
    "\n",
    "1. Use the `time` function to measure the execution time for the best and worst inputs of size between 10 and 1,000 (use steps of 10)\n",
    "2. Plot the best and worst execution times measured in (2.1) as a function of $n$\n",
    "3. Use the `random` function to generate randomly sorted inputs to calculate the execution time. For each $n$ run the program for 100 different inputs. Do for $n = 100,200, \\dots, 1000$.\n",
    "4. Plot the mean, median, and standard deviation as a function of $n$ for the values obtained in 2.3\n"
   ]
  },
  {
   "cell_type": "code",
   "execution_count": 37,
   "id": "b9153817",
   "metadata": {},
   "outputs": [
    {
     "ename": "RecursionError",
     "evalue": "maximum recursion depth exceeded in comparison",
     "output_type": "error",
     "traceback": [
      "\u001b[1;31m---------------------------------------------------------------------------\u001b[0m",
      "\u001b[1;31mRecursionError\u001b[0m                            Traceback (most recent call last)",
      "\u001b[1;32m<ipython-input-37-39ede9d13119>\u001b[0m in \u001b[0;36m<module>\u001b[1;34m\u001b[0m\n\u001b[0;32m     19\u001b[0m \u001b[1;33m\u001b[0m\u001b[0m\n\u001b[0;32m     20\u001b[0m \u001b[1;32mfor\u001b[0m \u001b[0mi\u001b[0m \u001b[1;32min\u001b[0m \u001b[0mr\u001b[0m\u001b[1;33m[\u001b[0m\u001b[1;34m'n'\u001b[0m\u001b[1;33m]\u001b[0m\u001b[1;33m:\u001b[0m\u001b[1;33m\u001b[0m\u001b[1;33m\u001b[0m\u001b[0m\n\u001b[1;32m---> 21\u001b[1;33m     \u001b[0mr\u001b[0m\u001b[1;33m[\u001b[0m\u001b[1;34m'time_loop'\u001b[0m\u001b[1;33m]\u001b[0m\u001b[1;33m=\u001b[0m\u001b[1;33m(\u001b[0m\u001b[0mordenamiento\u001b[0m\u001b[1;33m(\u001b[0m\u001b[0marray\u001b[0m\u001b[1;33m)\u001b[0m\u001b[1;33m)\u001b[0m\u001b[1;33m\u001b[0m\u001b[1;33m\u001b[0m\u001b[0m\n\u001b[0m\u001b[0;32m     22\u001b[0m \u001b[0mr\u001b[0m\u001b[1;33m[\u001b[0m\u001b[1;34m'time_loop'\u001b[0m\u001b[1;33m]\u001b[0m \u001b[1;33m=\u001b[0m \u001b[1;36m1000\u001b[0m\u001b[1;33m*\u001b[0m\u001b[0mr\u001b[0m\u001b[1;33m[\u001b[0m\u001b[1;34m'time_loop'\u001b[0m\u001b[1;33m]\u001b[0m\u001b[1;33m\u001b[0m\u001b[1;33m\u001b[0m\u001b[0m\n\u001b[0;32m     23\u001b[0m \u001b[1;33m\u001b[0m\u001b[0m\n",
      "\u001b[1;32m<ipython-input-37-39ede9d13119>\u001b[0m in \u001b[0;36mordenamiento\u001b[1;34m(array)\u001b[0m\n\u001b[0;32m     12\u001b[0m             \u001b[0mj\u001b[0m \u001b[1;33m-=\u001b[0m \u001b[1;36m1\u001b[0m\u001b[1;33m\u001b[0m\u001b[1;33m\u001b[0m\u001b[0m\n\u001b[0;32m     13\u001b[0m         \u001b[0marray\u001b[0m\u001b[1;33m[\u001b[0m\u001b[0mj\u001b[0m\u001b[1;33m+\u001b[0m\u001b[1;36m1\u001b[0m\u001b[1;33m]\u001b[0m \u001b[1;33m=\u001b[0m \u001b[0mkey\u001b[0m\u001b[1;33m\u001b[0m\u001b[1;33m\u001b[0m\u001b[0m\n\u001b[1;32m---> 14\u001b[1;33m     \u001b[1;32mreturn\u001b[0m \u001b[0mordenamiento\u001b[0m\u001b[1;33m(\u001b[0m\u001b[0marray\u001b[0m\u001b[1;33m[\u001b[0m\u001b[1;36m1\u001b[0m\u001b[1;33m:\u001b[0m\u001b[1;33m]\u001b[0m\u001b[1;33m)\u001b[0m\u001b[1;33m,\u001b[0m \u001b[1;33m(\u001b[0m\u001b[1;36m100000\u001b[0m\u001b[1;33m*\u001b[0m \u001b[0mtime\u001b[0m\u001b[1;33m.\u001b[0m\u001b[0mtime\u001b[0m\u001b[1;33m(\u001b[0m\u001b[1;33m)\u001b[0m \u001b[1;33m-\u001b[0m \u001b[0minicio\u001b[0m\u001b[1;33m)\u001b[0m\u001b[1;33m\u001b[0m\u001b[1;33m\u001b[0m\u001b[0m\n\u001b[0m\u001b[0;32m     15\u001b[0m \u001b[1;33m\u001b[0m\u001b[0m\n\u001b[0;32m     16\u001b[0m \u001b[1;31m#Mejor caso= Cuando la lista ya esta ordenada descendentemente\u001b[0m\u001b[1;33m\u001b[0m\u001b[1;33m\u001b[0m\u001b[1;33m\u001b[0m\u001b[0m\n",
      "... last 1 frames repeated, from the frame below ...\n",
      "\u001b[1;32m<ipython-input-37-39ede9d13119>\u001b[0m in \u001b[0;36mordenamiento\u001b[1;34m(array)\u001b[0m\n\u001b[0;32m     12\u001b[0m             \u001b[0mj\u001b[0m \u001b[1;33m-=\u001b[0m \u001b[1;36m1\u001b[0m\u001b[1;33m\u001b[0m\u001b[1;33m\u001b[0m\u001b[0m\n\u001b[0;32m     13\u001b[0m         \u001b[0marray\u001b[0m\u001b[1;33m[\u001b[0m\u001b[0mj\u001b[0m\u001b[1;33m+\u001b[0m\u001b[1;36m1\u001b[0m\u001b[1;33m]\u001b[0m \u001b[1;33m=\u001b[0m \u001b[0mkey\u001b[0m\u001b[1;33m\u001b[0m\u001b[1;33m\u001b[0m\u001b[0m\n\u001b[1;32m---> 14\u001b[1;33m     \u001b[1;32mreturn\u001b[0m \u001b[0mordenamiento\u001b[0m\u001b[1;33m(\u001b[0m\u001b[0marray\u001b[0m\u001b[1;33m[\u001b[0m\u001b[1;36m1\u001b[0m\u001b[1;33m:\u001b[0m\u001b[1;33m]\u001b[0m\u001b[1;33m)\u001b[0m\u001b[1;33m,\u001b[0m \u001b[1;33m(\u001b[0m\u001b[1;36m100000\u001b[0m\u001b[1;33m*\u001b[0m \u001b[0mtime\u001b[0m\u001b[1;33m.\u001b[0m\u001b[0mtime\u001b[0m\u001b[1;33m(\u001b[0m\u001b[1;33m)\u001b[0m \u001b[1;33m-\u001b[0m \u001b[0minicio\u001b[0m\u001b[1;33m)\u001b[0m\u001b[1;33m\u001b[0m\u001b[1;33m\u001b[0m\u001b[0m\n\u001b[0m\u001b[0;32m     15\u001b[0m \u001b[1;33m\u001b[0m\u001b[0m\n\u001b[0;32m     16\u001b[0m \u001b[1;31m#Mejor caso= Cuando la lista ya esta ordenada descendentemente\u001b[0m\u001b[1;33m\u001b[0m\u001b[1;33m\u001b[0m\u001b[1;33m\u001b[0m\u001b[0m\n",
      "\u001b[1;31mRecursionError\u001b[0m: maximum recursion depth exceeded in comparison"
     ]
    }
   ],
   "source": [
    "#1.\n",
    "\n",
    "import time\n",
    "\n",
    "def ordenamiento(array):\n",
    "    inicio = 100000*time.time()\n",
    "    for i in range(1,len(array)):        \n",
    "        key = array[i]\n",
    "        j = i-1\n",
    "        while (j >= 0) and (key > array[j]):\n",
    "            array[j+1] = array[j]\n",
    "            j -= 1\n",
    "        array[j+1] = key\n",
    "    return ordenamiento(array[1:]), (100000* time.time() - inicio)\n",
    "\n",
    "#Mejor caso= Cuando la lista ya esta ordenada descendentemente \n",
    "r = pd.DataFrame()\n",
    "r['n'] = range(1,1000,10)\n",
    "\n",
    "for i in r['n']:\n",
    "    r['time_loop']=(ordenamiento(array))\n",
    "r['time_loop'] = 1000*r['time_loop']\n",
    "\n",
    "\n",
    "\n",
    "#Peor caso= Cuando la lista esta ordenada crecientemente \n",
    "r_1 = pd.DataFrame()\n",
    "r_1['n'] = range(1,1000,10)\n",
    "\n",
    "for i in r['n']:\n",
    "    r_1['time_loop']=(ordenamiento[i])\n",
    "r_1['time_loop'] = 1000*r_1['time_loop']\n",
    "\n",
    "#2.\n",
    "\n",
    "r.plot(x='n', y='time_loop')\n",
    "plt.grid()\n",
    "plt.ylabel('Trabajo')\n",
    "\n",
    "\n",
    "r_1.plot(x='n', y='time_loop')\n",
    "plt.grid()\n",
    "plt.ylabel('Trabajo')\n",
    "\n",
    "\n",
    "#3. \n",
    "#Generar arreglos aletorios\n",
    "\n",
    "def generar_arreglo(A):\n",
    "    inicio = 100000*time.time()\n",
    "    A=[]\n",
    "    for i in range (20):\n",
    "        A.append(random.randint(10, 1000,100))\n",
    "    return A, 100000* time.time() - inicio \n",
    " \n",
    "r_2 = pd.DataFrame()\n",
    "r_2['n'] = range(1,1000,10)\n",
    "\n",
    "r_2['time_loop'] = [generar_arreglo(b) for x in r_2['n']]\n",
    "r_2['time_loop'] = 1000*r_2['time_loop']\n",
    "\n",
    "4. \n",
    "#Calculo de media, mediana, y desviacion standar \n",
    "\n",
    "media=r_2.mean()\n",
    "desv_std=r_2.std()\n",
    "mediana=statistics.median(r_2)\n",
    "\n",
    "#Graficas\n",
    "plt.plot(media)\n",
    "plt.show()\n",
    "\n",
    "plt.plot(desv_std)\n",
    "plt.show()\n",
    "\n",
    "plt.plot(mediana)\n",
    "plt.show()\n"
   ]
  },
  {
   "cell_type": "markdown",
   "id": "a3746feb",
   "metadata": {},
   "source": [
    "## 3.  CLRS 2.1-4\n",
    "pg. 22"
   ]
  },
  {
   "cell_type": "code",
   "execution_count": 29,
   "id": "ae614e13",
   "metadata": {},
   "outputs": [
    {
     "name": "stdout",
     "output_type": "stream",
     "text": [
      "[0, 0, 1, 1]\n"
     ]
    }
   ],
   "source": [
    "#Anadir valores binarios almacenados en dos arrays A y B, su suma se debe almacenar de forma binaria en un array n+1 C.\n",
    "\n",
    "#Establecer problema:\n",
    "'''Necesitamos 2 listas de tamano n y un ultimo lista de tamano n+1. \n",
    "   En donde se suma dos arreglos y devolvemos un valor en binario almacenado en una lista C\n",
    "\n",
    "'''\n",
    "#codigo\n",
    "def SumaBinaria(A,B):\n",
    "    suma=0\n",
    "    n=max(len(A),len(B))\n",
    "    #Array C (n+1)\n",
    "    C=[0 for i in range(n+1)]\n",
    "    for i in range(n):\n",
    "        C[i]=(A[i]+B[i]+suma)%2\n",
    "        suma=(A[i]+B[i]+suma)//2\n",
    "    C[n]=suma    \n",
    "    return C\n",
    "\n",
    "\n",
    "A=[1,1,1]\n",
    "B=[1,0,1]   \n",
    "\n",
    "X=SumaBinaria(B,A)\n",
    "print(X)"
   ]
  },
  {
   "cell_type": "markdown",
   "id": "fd9ddcc1",
   "metadata": {},
   "source": [
    "## 4.  CLRS 3.1-1\n",
    "pg. 52"
   ]
  },
  {
   "cell_type": "markdown",
   "id": "5086741d",
   "metadata": {},
   "source": [
    "'''\n",
    "Resolucion:\n",
    "\n",
    "$F(n) y g(n)$ son funciones asintóticas no negativas \n",
    "usando la definicion basica de la notacion theta, demostrar\n",
    "que el maximo $(f(n),g(n))=Θ(f(n)+g(n))$\n",
    "\n",
    "Al constuir=\n",
    "$maximo{f(n),g(n)}≤f(n)+g(n)≤2max{f(n),g(n)}$\n",
    "para toda $n$ el $maximo{f(n),g(n)}$ pertenece a $Θ((f(n)+g(n)))$\n",
    "\n",
    "'''\n"
   ]
  },
  {
   "cell_type": "markdown",
   "id": "4a070079",
   "metadata": {},
   "source": [
    "## 5. CLRS 3.1-2\n",
    "pg. 52"
   ]
  },
  {
   "cell_type": "markdown",
   "id": "a1858ef3",
   "metadata": {},
   "source": [
    "'''\n",
    "Mostrar para cualquier constante a y b cuando b>0 que:\n",
    "\n",
    "$(n+a)^b = Θ (n^b)$\n",
    "\n",
    "-1) para constantes mayores a cero \n",
    "\n",
    "$ 0≤c*n^b≤(n+a)^b≤c2n^b $\n",
    "    \n",
    "-2) $n ≥|a|$ \n",
    "\n",
    "$ n+a≤n+|a|≤2n $\n",
    "    \n",
    "-3) $n ≥2|a|$\n",
    "\n",
    "$ 0≤(1/2)^b*n^b≤(n+a)^b≤(2^b)n^b $\n",
    "    \n",
    "Por lo que, $c=(1/2)^b$, $c2=(2^b)$, $n= 2|a|$ son los valores para que se cumpla la ecuacion\n",
    "'''"
   ]
  },
  {
   "cell_type": "markdown",
   "id": "7fe796ed",
   "metadata": {},
   "source": [
    "## 6. CLRS 3.1-6\n",
    "pg. 53"
   ]
  },
  {
   "cell_type": "markdown",
   "id": "73403da3",
   "metadata": {},
   "source": [
    "'''\n",
    "Demostrar el tiempo de ejecucion de θ(g(n)) si y solo si \n",
    "el peor caso es O(g(n)) y el mejor caso es Ω(g(n))\n",
    "\n",
    "\n",
    "$F(n)=θ(g(n))$ para $n≥$valores positivos $\n",
    "- Por lo que, por la definicion: \n",
    "\n",
    "$0≤c*g(n)≤F(n)≤c2*g(n)$\n",
    "\n",
    "- 1) Para O(n)(Peor caso):\n",
    "\n",
    "$0≤F(n)≤c2g(n)$ para $n≥valores positivos $\n",
    "Por lo que para O(n) el tiempo de ejecucion es mayor.\n",
    "\n",
    "- 2) Para Ω(n)(Mejor caso):\n",
    "\n",
    "$0≤cg(n)≤F(n)$ para $n≥valores positivos$\n",
    "Por lo que para Ω(n) el tiempo de ejecucion es menor. \n",
    "\n",
    "\n",
    "\n",
    "\n",
    "'''"
   ]
  },
  {
   "cell_type": "markdown",
   "id": "2d3a36bc",
   "metadata": {},
   "source": [
    "## 7. CLRS 3-4 (a,b,e,g)\n",
    "pg. 62"
   ]
  },
  {
   "cell_type": "markdown",
   "id": "a90b74e0",
   "metadata": {},
   "source": [
    "'''\n",
    "Propiedades de notacion asintoticas\n",
    "F(n) y g(n) son funciones asintoticas positivas, aprovar o desaprovar los literales\n",
    "\n",
    "\n",
    "a)$f(n) =O(g(n)) tambien g(n)=O(f(n))$ \n",
    "\n",
    "Falso, teniendo dos funciones distintas con una orden exponencial superior \n",
    "no tendran el mismo crecimiento o complejidad de Big O.\n",
    "\n",
    "b)$f(n)+g(n)=θ(min(f(n),g(n))$\n",
    "\n",
    "Falso, el caso minimo no sera el mismo teniendo dos funciones diferentes \n",
    "con orden exponencial diferente.\n",
    "\n",
    "e)$f(n)=O((f(n))^2)$\n",
    "\n",
    "Verdadero, dependiendo de la funcion la complejidad de Big O pude ser la misma\n",
    "\n",
    "g)$f(n)=θ(f(n/2)) $\n",
    "\n",
    "Falso, No todas las funciones que se dividan a la mitad construyen Theta de F(n)\n",
    "'''"
   ]
  },
  {
   "cell_type": "code",
   "execution_count": null,
   "id": "136e8563",
   "metadata": {},
   "outputs": [],
   "source": []
  },
  {
   "cell_type": "code",
   "execution_count": null,
   "id": "4c392349",
   "metadata": {},
   "outputs": [],
   "source": []
  }
 ],
 "metadata": {
  "celltoolbar": "Raw Cell Format",
  "kernelspec": {
   "display_name": "Python 3",
   "language": "python",
   "name": "python3"
  },
  "language_info": {
   "codemirror_mode": {
    "name": "ipython",
    "version": 3
   },
   "file_extension": ".py",
   "mimetype": "text/x-python",
   "name": "python",
   "nbconvert_exporter": "python",
   "pygments_lexer": "ipython3",
   "version": "3.8.8"
  }
 },
 "nbformat": 4,
 "nbformat_minor": 5
}
