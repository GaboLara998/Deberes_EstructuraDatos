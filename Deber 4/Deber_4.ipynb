{
 "cells": [
  {
   "cell_type": "markdown",
   "id": "db8d6739",
   "metadata": {},
   "source": [
    "Gabriel Lara 00215784"
   ]
  },
  {
   "cell_type": "markdown",
   "id": "35509289",
   "metadata": {},
   "source": [
    "   1. [10 pts] Given a list of list of dimension m x n (2-D matrix) representing a map of '1's (land) and '0's (water), write a Python function that returns the number of islands and takes the matrix as input. \n",
    "\n",
    "- An island is surrounded by water and is formed by connecting adjacent lands horizontally or vertically.\\\n",
    "- Assume all four edges of the matrix are all surrounded by water.\n",
    "- Write an implementation for BFS and one for DFS\n",
    "\n",
    "\n",
    "Example:\n",
    "\n",
    "```\n",
    "Input: map = [\n",
    "  [\"1\",\"1\",\"0\",\"0\",\"0\"],\n",
    "  [\"1\",\"1\",\"0\",\"0\",\"0\"],\n",
    "  [\"0\",\"0\",\"1\",\"0\",\"0\"],\n",
    "  [\"0\",\"0\",\"0\",\"1\",\"1\"]\n",
    "]\n",
    "Output: 3\n",
    "```\n"
   ]
  },
  {
   "cell_type": "code",
   "execution_count": 315,
   "id": "c5d9ae98",
   "metadata": {},
   "outputs": [
    {
     "name": "stdout",
     "output_type": "stream",
     "text": [
      "Mapa_1:  4\n",
      "Mapa_2:  2\n",
      "Mapa_3:  3\n"
     ]
    }
   ],
   "source": [
    "#Usando BFS\n",
    "\n",
    "def Contador_islas(map):\n",
    "    fila=len(map)\n",
    "    colum=len(map[0])\n",
    "    generar_grilla = [[0] * colum for i in range(fila)]\n",
    "    direcciones=[[1,0],[0,1],[1,0],[-1,0]]\n",
    "    cola = []\n",
    "    contador=0\n",
    "    for i in range(fila):\n",
    "        for j, k in enumerate(map[i]):\n",
    "            if (k == 1) and (generar_grilla[i][j]) != 1:\n",
    "                generar_grilla[i][j] = 1\n",
    "                cola.append((i, j))\n",
    "                while cola:\n",
    "                    var_fila,var_col = cola.pop(0)                   \n",
    "                    for k in range(len(direcciones)):\n",
    "                        valor_fila = var_fila + direcciones[k][1]                        \n",
    "                        valor_columna = var_col + direcciones[k][0]\n",
    "                        if (valor_columna >= 0 and valor_fila >= 0) and (valor_columna < fila) and (valor_fila < colum):\n",
    "                            if (generar_grilla[valor_columna][valor_fila]) != 1 and (map[valor_columna][valor_fila] == 1):\n",
    "                                cola.append((valor_columna, valor_fila))\n",
    "                                generar_grilla[valor_columna][valor_fila] = 1\n",
    "                contador += 1\n",
    "    return contador\n",
    "\n",
    "map1 =([\n",
    "    [1,1,0,0,1], \n",
    "    [1,0,0,1,1], \n",
    "    [0,0,0,0,0], \n",
    "    [1,1,0,1,1]])\n",
    "\n",
    "map2 =([\n",
    "    [0,1,0,0,0],\n",
    "    [0,1,0,0,0],\n",
    "    [0,0,1,1,0],\n",
    "    [0,0,0,1,0]])\n",
    "\n",
    "map3 =([\n",
    "    [1,1,0,0,0],\n",
    "    [1,1,0,0,0],\n",
    "    [0,0,1,0,0],\n",
    "    [0,0,0,1,1]])\n",
    "\n",
    "x1=Contador_islas(map1)\n",
    "print(\"Mapa_1: \",x1)\n",
    "\n",
    "x2=Contador_islas(map2)\n",
    "print(\"Mapa_2: \",x2)\n",
    "\n",
    "x3=Contador_islas(map3)\n",
    "print(\"Mapa_3: \",x3)"
   ]
  },
  {
   "cell_type": "code",
   "execution_count": 316,
   "id": "2d282f97",
   "metadata": {},
   "outputs": [
    {
     "name": "stdout",
     "output_type": "stream",
     "text": [
      "Mapa_1:  4\n",
      "Mapa_2:  2\n",
      "Mapa_3:  3\n"
     ]
    }
   ],
   "source": [
    "#Usando DFS \n",
    "class Solucion(object):\n",
    "\tdef metodo_dfs(self, fila, colum, map):\n",
    "\t\tif (fila < 0) or (fila >= len(map)) or (colum < 0) or (colum >= len(map[0])) or (map[fila][colum] != 1):\n",
    "\t\t\treturn 0\n",
    "\t\tmap[fila][colum] = \" \"\n",
    "\t\tself.metodo_dfs(fila-1,colum,map)\n",
    "\t\tself.metodo_dfs(fila+1,colum,map)\n",
    "\t\tself.metodo_dfs(fila,colum-1,map)\n",
    "\t\tself.metodo_dfs(fila,colum+1,map)\n",
    "\t\treturn 1\n",
    "\n",
    "\tdef Contador_islasDFS(self, map):\n",
    "\t\tif not map or not map[0]:\n",
    "\t\t\treturn 0\n",
    "\t\tvar_contador = 0\n",
    "\t\tfor i in range(len(map)):\n",
    "\t\t\tfor j in range(len(map[0])):\n",
    "\t\t\t\tif (map[i][j] == 1):\n",
    "\t\t\t\t\tvar_contador += self.metodo_dfs(i, j, map)\n",
    "\t\treturn var_contador\n",
    "\n",
    "map1 =([\n",
    "    [1,1,0,0,1], \n",
    "    [1,0,0,1,1], \n",
    "    [0,0,0,0,0], \n",
    "    [1,1,0,1,1]])\n",
    "\n",
    "map2 =([\n",
    "    [0,1,0,0,0],\n",
    "    [0,1,0,0,0],\n",
    "    [0,0,1,1,0],\n",
    "    [0,0,0,1,0]])\n",
    "\n",
    "map3 =([\n",
    "    [1,1,0,0,0],\n",
    "    [1,1,0,0,0],\n",
    "    [0,0,1,0,0],\n",
    "    [0,0,0,1,1]])\n",
    "\n",
    "p1 = Solucion()\n",
    "print(\"Mapa_1: \",p1.Contador_islasDFS(map1))\n",
    "print(\"Mapa_2: \",p1.Contador_islasDFS(map2))\n",
    "print(\"Mapa_3: \",p1.Contador_islasDFS(map3))"
   ]
  },
  {
   "cell_type": "markdown",
   "id": "c244ed40",
   "metadata": {},
   "source": [
    "## 2. [5 pts] A perfect square is an integer that is the square of an integer; in other words, it is the product of some integer with itself. For example, 1, 4, 9, and 16 are perfect squares, and 2 and 5 are not perfect squares\n",
    "\n",
    "Use BFS and write a Python function that gets a number `n` as input and return the least number of perfect square numbers that sum to `n`\n",
    "\n",
    "Example 1:\n",
    "\n",
    "```\n",
    "Input: n = 12\n",
    "Output: 3\n",
    "Explanation: 12 = 4 + 4 + 4.\n",
    "```\n",
    "\n",
    "Example 2:\n",
    "```\n",
    "Input: n = 13\n",
    "Output: 2\n",
    "Explanation: 13 = 4 + 9.\n",
    "```\n",
    "\n",
    "\n",
    "**Hint 1:**\n",
    "\n",
    "You can build a graph (n-ary tree) using the input as the root, and the children the difference between the input and the perfect squares less or equal to the input. Each of the children can become the root of a subtree built using the same idea. For example, the graph below reflects the first level of the tree for `n=17`. \n",
    "\n",
    "![](./hint1.png)\n",
    "\n",
    "\n",
    "Once the graph is defined, you can run BFS"
   ]
  },
  {
   "cell_type": "code",
   "execution_count": 317,
   "id": "b3272e12",
   "metadata": {},
   "outputs": [
    {
     "name": "stdout",
     "output_type": "stream",
     "text": [
      "Cuadrado perfecto de 12: 3\n",
      "Cuadrado perfecto de 13: 2\n",
      "Cuadrado perfecto de 45: 2\n",
      "Cuadrado perfecto de 17: 2\n",
      "Cuadrado perfecto de 25: 1\n",
      "Cuadrado perfecto de 9: 1\n"
     ]
    }
   ],
   "source": [
    "import math \n",
    "def cuadradoPerfecto(n) :\n",
    "    vector_recorrido = [0]*(n + 1)\n",
    "    Cola_pasos = []\n",
    "    resultado = math.inf\n",
    "    Cola_pasos.append([n, 0])\n",
    "    vector_recorrido[n] = 1     \n",
    "    while len(Cola_pasos):\n",
    "        var_temp = 1 \n",
    "        pos_Cola = Cola_pasos[0]       \n",
    "        Cola_pasos.pop(0)\n",
    "        if (pos_Cola[0] == 0):\n",
    "            resultado = min(resultado, pos_Cola[1])\n",
    "        while ((var_temp * var_temp) <= pos_Cola[0]):\n",
    "            cola_temp = pos_Cola[0] - (var_temp * var_temp)\n",
    "            if (cola_temp >= 0) and (vector_recorrido[cola_temp] == 0) or (cola_temp == 0):\n",
    "                Cola_pasos.append([cola_temp,pos_Cola[1] + 1]) \n",
    "                vector_recorrido[cola_temp] = 1  \n",
    "            var_temp += 1\n",
    "    return resultado\n",
    "\n",
    "print(\"Cuadrado perfecto de 12:\", cuadradoPerfecto(12))\n",
    "print(\"Cuadrado perfecto de 13:\", cuadradoPerfecto(13))\n",
    "print(\"Cuadrado perfecto de 45:\", cuadradoPerfecto(45))\n",
    "print(\"Cuadrado perfecto de 17:\", cuadradoPerfecto(17))\n",
    "print(\"Cuadrado perfecto de 25:\", cuadradoPerfecto(25))\n",
    "print(\"Cuadrado perfecto de 9:\", cuadradoPerfecto(9))"
   ]
  },
  {
   "cell_type": "code",
   "execution_count": null,
   "id": "1f2e00f2",
   "metadata": {},
   "outputs": [],
   "source": []
  }
 ],
 "metadata": {
  "kernelspec": {
   "display_name": "Python 3",
   "language": "python",
   "name": "python3"
  },
  "language_info": {
   "codemirror_mode": {
    "name": "ipython",
    "version": 3
   },
   "file_extension": ".py",
   "mimetype": "text/x-python",
   "name": "python",
   "nbconvert_exporter": "python",
   "pygments_lexer": "ipython3",
   "version": "3.9.7"
  }
 },
 "nbformat": 4,
 "nbformat_minor": 5
}
